{
 "cells": [
  {
   "cell_type": "code",
   "execution_count": null,
   "metadata": {},
   "outputs": [],
   "source": [
    "pip install reportlab"
   ]
  },
  {
   "cell_type": "code",
   "execution_count": 28,
   "metadata": {},
   "outputs": [],
   "source": [
    "from transformers import pipeline\n",
    "from reportlab.lib.pagesizes import letter\n",
    "from reportlab.lib import colors\n",
    "from reportlab.lib.styles import getSampleStyleSheet, ParagraphStyle\n",
    "from reportlab.platypus import SimpleDocTemplate, Paragraph\n",
    "from openai import OpenAI\n",
    "import os\n",
    "from fpdf import FPDF"
   ]
  },
  {
   "cell_type": "code",
   "execution_count": 7,
   "metadata": {},
   "outputs": [
    {
     "name": "stderr",
     "output_type": "stream",
     "text": [
      "Special tokens have been added in the vocabulary, make sure the associated word embeddings are fine-tuned or trained.\n"
     ]
    }
   ],
   "source": [
    "whisper = pipeline('automatic-speech-recognition', model = 'openai/whisper-small', device = -1)"
   ]
  },
  {
   "cell_type": "code",
   "execution_count": 8,
   "metadata": {},
   "outputs": [
    {
     "name": "stderr",
     "output_type": "stream",
     "text": [
      "d:\\meeting_agenda\\.myenv\\Lib\\site-packages\\transformers\\models\\whisper\\generation_whisper.py:480: FutureWarning: The input name `inputs` is deprecated. Please make sure to use `input_features` instead.\n",
      "  warnings.warn(\n"
     ]
    }
   ],
   "source": [
    "text = whisper(\"audio.mp3\")"
   ]
  },
  {
   "cell_type": "code",
   "execution_count": 9,
   "metadata": {},
   "outputs": [
    {
     "name": "stdout",
     "output_type": "stream",
     "text": [
      " So in this code I am going to explain how I have implemented GUI using kinter which is a Python library. So first of all I have made a class, theme table and there is a constructor which is used to in slice all the values. Now moving on let's see there is another function create table which is generally creating that table and for it is using the built in commands of kinter like dot grid and dot label and these four loops are used to create the cells in that table. Now let's see move on. The highlight file state is basically asking the user what he wants, what he wants, like what he wants, which cell he wants to be made as a file. So I have used state-entry.conf.background is equal to yellow, which is coloring that cell into yellow color. So now let's see the input values function. So basically it is printing all the values inputted by the user into the input file. These two function def-financed state and def-financed state are also coloring the final state into yellow color but they are implementing this logic into the DFA minimized table not the original one. And same goes for this table. It is making a table but it is making a DFA minimized table. Now let's see. So this function creates circle basically creating our DFA diagram, the original one and also the minimized one. And the logic and the commands it use are the not node and dot edge. The dot node is creating the circle and dot edge is used to you can say it is making the lines between that the arrows between the circles. Now our next class is custom dialog basically this class is only used to make our code beautiful or to beautify our code and for this we can have used background, font and stuff like that so there is less logic in this part. We have used button tk.button the button command to create button and yes that's pretty much it, that's pretty much it and let's see it in main IFK you can see the object to called the above functions of the table class and that concludes it. Thank you.\n"
     ]
    }
   ],
   "source": [
    "print(text['text'])"
   ]
  },
  {
   "cell_type": "code",
   "execution_count": 45,
   "metadata": {},
   "outputs": [],
   "source": [
    "def create_pdf(text):\n",
    "    # Split the text into lines for formatting\n",
    "    lines = text.split('\\n')\n",
    "\n",
    "    # Define the PDF filename\n",
    "    pdf_filename = \"meeting_notes.pdf\"\n",
    "    pdf = FPDF()\n",
    "    pdf.add_page()\n",
    "    pdf.set_auto_page_break(auto=True, margin=15)\n",
    "    pdf.set_font(\"Arial\", size=12)\n",
    "\n",
    "    # Flag to check if \"Summary of the agenda\" has been bolded\n",
    "    summary_bolded = False\n",
    "\n",
    "    # Add formatted lines to the PDF\n",
    "    for line in lines:\n",
    "        line_stripped = line.strip()\n",
    "        if line_stripped:  # Check for non-empty lines\n",
    "            if not summary_bolded and \"Summary of the meeting\" in line_stripped:\n",
    "                pdf.set_font(\"Arial\", style='B', size=12)\n",
    "                summary_bolded = True\n",
    "            elif \"meeting agenda\" in line_stripped.lower():\n",
    "                pdf.set_font(\"Arial\", style='B', size=12)\n",
    "            elif line[0].isdigit():  # Heading line\n",
    "                pdf.set_font(\"Arial\", style='B', size=12)\n",
    "            else:\n",
    "                pdf.set_font(\"Arial\", size=12)\n",
    "            pdf.multi_cell(0, 10, line)  # Line spacing of 10\n",
    "\n",
    "    # Save the PDF\n",
    "    pdf.output(pdf_filename)\n",
    "    return pdf_filename\n"
   ]
  },
  {
   "cell_type": "code",
   "execution_count": 46,
   "metadata": {},
   "outputs": [],
   "source": [
    "prompt = f\"\"\"You are a helpful assistant with expertise in analyzing text extracted from videos. Your tasks are to create a summary of the meeting and generate a meeting agenda based solely on the provided text. The output format should follow this structure:\n",
    "      Summary of the meeting:\n",
    "      Print the summary here\n",
    "      \n",
    "      Also print a heading of \"Meeting Agenda\" before outputing the agenda\n",
    "\n",
    "        1. Agenda\n",
    "           - Agenda item 1\n",
    "           - Agenda item 2\n",
    "\n",
    "        2. Discussion Topics\n",
    "           - Topic 1\n",
    "           - Topic 2\n",
    "           - Topic 3\n",
    "\n",
    "        3. Weekly Updates\n",
    "           - Update 1\n",
    "           - Update 2\n",
    "\n",
    "        4. Priority Tasks\n",
    "           - Task 1\n",
    "           - Task 2\n",
    "\n",
    "        5. Notes\n",
    "           - Note 1\n",
    "           - Note 2\n",
    "\n",
    "        Please do not infer any information beyond what is explicitly provided in the source text. Use strictly and only the text given below as input.\n",
    "\n",
    "        ========\n",
    "        {text}\n",
    "        ========\n",
    "        \"\"\"\n",
    "\n",
    "      \n",
    "        \n"
   ]
  },
  {
   "cell_type": "code",
   "execution_count": 47,
   "metadata": {},
   "outputs": [
    {
     "data": {
      "text/plain": [
       "'You are a helpful assistant with expertise in analyzing text extracted from videos. Your tasks are to create a summary of the meeting and generate a meeting agenda based solely on the provided text. The output format should follow this structure:\\n      Summary of the meeting:\\n      Print the summary here\\n      \\n      Also print a heading of \"Meeting Agenda\" before outputing the agenda\\n\\n        1. Agenda\\n           - Agenda item 1\\n           - Agenda item 2\\n\\n        2. Discussion Topics\\n           - Topic 1\\n           - Topic 2\\n           - Topic 3\\n\\n        3. Weekly Updates\\n           - Update 1\\n           - Update 2\\n\\n        4. Priority Tasks\\n           - Task 1\\n           - Task 2\\n\\n        5. Notes\\n           - Note 1\\n           - Note 2\\n\\n        Please do not infer any information beyond what is explicitly provided in the source text. Use strictly and only the text given below as input.\\n\\n        ========\\n        {\\'text\\': \" So in this code I am going to explain how I have implemented GUI using kinter which is a Python library. So first of all I have made a class, theme table and there is a constructor which is used to in slice all the values. Now moving on let\\'s see there is another function create table which is generally creating that table and for it is using the built in commands of kinter like dot grid and dot label and these four loops are used to create the cells in that table. Now let\\'s see move on. The highlight file state is basically asking the user what he wants, what he wants, like what he wants, which cell he wants to be made as a file. So I have used state-entry.conf.background is equal to yellow, which is coloring that cell into yellow color. So now let\\'s see the input values function. So basically it is printing all the values inputted by the user into the input file. These two function def-financed state and def-financed state are also coloring the final state into yellow color but they are implementing this logic into the DFA minimized table not the original one. And same goes for this table. It is making a table but it is making a DFA minimized table. Now let\\'s see. So this function creates circle basically creating our DFA diagram, the original one and also the minimized one. And the logic and the commands it use are the not node and dot edge. The dot node is creating the circle and dot edge is used to you can say it is making the lines between that the arrows between the circles. Now our next class is custom dialog basically this class is only used to make our code beautiful or to beautify our code and for this we can have used background, font and stuff like that so there is less logic in this part. We have used button tk.button the button command to create button and yes that\\'s pretty much it, that\\'s pretty much it and let\\'s see it in main IFK you can see the object to called the above functions of the table class and that concludes it. Thank you.\"}\\n        ========\\n        '"
      ]
     },
     "execution_count": 47,
     "metadata": {},
     "output_type": "execute_result"
    }
   ],
   "source": [
    "prompt"
   ]
  },
  {
   "cell_type": "code",
   "execution_count": 48,
   "metadata": {},
   "outputs": [
    {
     "name": "stdout",
     "output_type": "stream",
     "text": [
      "Summary of the meeting:\n",
      "The meeting discussed the implementation of GUI using the Python library kinter. The presenter explained creating a table, highlighting cells, inputting values, and creating a DFA diagram. They also mentioned a custom dialog class for beautifying the code.\n",
      "\n",
      "Meeting Agenda:\n",
      "1. Agenda\n",
      "   - Discuss the implementation of GUI using kinter\n",
      "   - Explain the process of creating a table\n",
      "   - Highlight the functionality of highlighting cells\n",
      "   - Present the input values function\n",
      "\n",
      "2. Discussion Topics\n",
      "   - Creating a DFA diagram\n",
      "   - Utilizing the custom dialog class\n",
      "\n",
      "3. Weekly Updates\n",
      "   - Progress on GUI implementation\n",
      "   - Updates on table creation\n",
      "\n",
      "4. Priority Tasks\n",
      "   - Finalize design for highlighting cells\n",
      "   - Enhance the appearance of the custom dialog class\n",
      "\n",
      "5. Notes\n",
      "   - Use kinter built-in commands for GUI elements\n",
      "   - Ensure consistent color scheme for highlighted cells.\n"
     ]
    }
   ],
   "source": [
    "response = client.chat.completions.create(\n",
    "\n",
    "\n",
    "    model = \"gpt-3.5-turbo\",\n",
    "    messages=[\n",
    "    {\n",
    "        \"role\": \"user\",\n",
    "        \"content\": prompt\n",
    "        }\n",
    "    ]\n",
    ")\n",
    "\n",
    "output = response.choices[0].message.content\n",
    "print(output)\n",
    "\n"
   ]
  },
  {
   "cell_type": "code",
   "execution_count": 50,
   "metadata": {},
   "outputs": [
    {
     "data": {
      "text/plain": [
       "'meeting_notes.pdf'"
      ]
     },
     "execution_count": 50,
     "metadata": {},
     "output_type": "execute_result"
    }
   ],
   "source": [
    "create_pdf(output)"
   ]
  },
  {
   "cell_type": "code",
   "execution_count": null,
   "metadata": {},
   "outputs": [],
   "source": []
  }
 ],
 "metadata": {
  "kernelspec": {
   "display_name": ".myenv",
   "language": "python",
   "name": "python3"
  },
  "language_info": {
   "codemirror_mode": {
    "name": "ipython",
    "version": 3
   },
   "file_extension": ".py",
   "mimetype": "text/x-python",
   "name": "python",
   "nbconvert_exporter": "python",
   "pygments_lexer": "ipython3",
   "version": "3.12.3"
  }
 },
 "nbformat": 4,
 "nbformat_minor": 2
}
